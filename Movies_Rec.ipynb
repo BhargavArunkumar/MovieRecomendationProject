{
  "nbformat": 4,
  "nbformat_minor": 2,
  "metadata": {
    "colab": {
      "name": "Movies_on_stream.ipynb",
      "provenance": [],
      "collapsed_sections": []
    },
    "kernelspec": {
      "name": "python3",
      "display_name": "Python 3.8.5 64-bit ('base': conda)"
    },
    "language_info": {
      "name": "python",
      "version": "3.8.5",
      "mimetype": "text/x-python",
      "codemirror_mode": {
        "name": "ipython",
        "version": 3
      },
      "pygments_lexer": "ipython3",
      "nbconvert_exporter": "python",
      "file_extension": ".py"
    },
    "interpreter": {
      "hash": "b3ba2566441a7c06988d0923437866b63cedc61552a5af99d1f4fb67d367b25f"
    }
  },
  "cells": [
    {
      "cell_type": "code",
      "execution_count": 9,
      "source": [
        "import pandas as pd\r\n",
        "import numpy as np\r\n",
        "import matplotlib.pyplot as plt\r\n",
        "import seaborn as sns"
      ],
      "outputs": [],
      "metadata": {
        "id": "pKIrXL5hnKuW"
      }
    },
    {
      "cell_type": "code",
      "execution_count": 10,
      "source": [
        "pd.set_option('display.max_columns', None)"
      ],
      "outputs": [],
      "metadata": {
        "id": "WGp6L0pYnTX6"
      }
    },
    {
      "cell_type": "code",
      "execution_count": 11,
      "source": [
        "import warnings\r\n",
        "warnings.filterwarnings('ignore')"
      ],
      "outputs": [],
      "metadata": {
        "id": "EC4nR2b3nU6m"
      }
    },
    {
      "cell_type": "markdown",
      "source": [
        "## Import Date"
      ],
      "metadata": {
        "id": "qzjf978BnYk5"
      }
    },
    {
      "cell_type": "code",
      "execution_count": 12,
      "source": [
        "url = 'https://raw.githubusercontent.com/BhargavArunkumar/MovieRecomendationProject/main/Movie_rec_data/MoviesOnStreamingPlatforms_updated.csv'"
      ],
      "outputs": [],
      "metadata": {}
    },
    {
      "cell_type": "code",
      "execution_count": 13,
      "source": [
        "df = pd.read_csv(url)"
      ],
      "outputs": [],
      "metadata": {
        "id": "kvHHGkEKnmV6"
      }
    },
    {
      "cell_type": "code",
      "execution_count": 14,
      "source": [
        "df.head()"
      ],
      "outputs": [
        {
          "output_type": "execute_result",
          "data": {
            "text/html": [
              "<div>\n",
              "<style scoped>\n",
              "    .dataframe tbody tr th:only-of-type {\n",
              "        vertical-align: middle;\n",
              "    }\n",
              "\n",
              "    .dataframe tbody tr th {\n",
              "        vertical-align: top;\n",
              "    }\n",
              "\n",
              "    .dataframe thead th {\n",
              "        text-align: right;\n",
              "    }\n",
              "</style>\n",
              "<table border=\"1\" class=\"dataframe\">\n",
              "  <thead>\n",
              "    <tr style=\"text-align: right;\">\n",
              "      <th></th>\n",
              "      <th>Unnamed: 0</th>\n",
              "      <th>ID</th>\n",
              "      <th>Title</th>\n",
              "      <th>Year</th>\n",
              "      <th>Age</th>\n",
              "      <th>IMDb</th>\n",
              "      <th>Rotten Tomatoes</th>\n",
              "      <th>Netflix</th>\n",
              "      <th>Hulu</th>\n",
              "      <th>Prime Video</th>\n",
              "      <th>Disney+</th>\n",
              "      <th>Type</th>\n",
              "      <th>Directors</th>\n",
              "      <th>Genres</th>\n",
              "      <th>Country</th>\n",
              "      <th>Language</th>\n",
              "      <th>Runtime</th>\n",
              "    </tr>\n",
              "  </thead>\n",
              "  <tbody>\n",
              "    <tr>\n",
              "      <th>0</th>\n",
              "      <td>0</td>\n",
              "      <td>1</td>\n",
              "      <td>The Irishman</td>\n",
              "      <td>2019</td>\n",
              "      <td>18+</td>\n",
              "      <td>7.8/10</td>\n",
              "      <td>98/100</td>\n",
              "      <td>1</td>\n",
              "      <td>0</td>\n",
              "      <td>0</td>\n",
              "      <td>0</td>\n",
              "      <td>0</td>\n",
              "      <td>Martin Scorsese</td>\n",
              "      <td>Biography,Crime,Drama</td>\n",
              "      <td>United States</td>\n",
              "      <td>English,Italian,Latin,Spanish,German</td>\n",
              "      <td>209.0</td>\n",
              "    </tr>\n",
              "    <tr>\n",
              "      <th>1</th>\n",
              "      <td>1</td>\n",
              "      <td>2</td>\n",
              "      <td>Dangal</td>\n",
              "      <td>2016</td>\n",
              "      <td>7+</td>\n",
              "      <td>8.4/10</td>\n",
              "      <td>97/100</td>\n",
              "      <td>1</td>\n",
              "      <td>0</td>\n",
              "      <td>0</td>\n",
              "      <td>0</td>\n",
              "      <td>0</td>\n",
              "      <td>Nitesh Tiwari</td>\n",
              "      <td>Action,Biography,Drama,Sport</td>\n",
              "      <td>India,United States,United Kingdom,Australia,K...</td>\n",
              "      <td>Hindi,English</td>\n",
              "      <td>161.0</td>\n",
              "    </tr>\n",
              "    <tr>\n",
              "      <th>2</th>\n",
              "      <td>2</td>\n",
              "      <td>3</td>\n",
              "      <td>David Attenborough: A Life on Our Planet</td>\n",
              "      <td>2020</td>\n",
              "      <td>7+</td>\n",
              "      <td>9.0/10</td>\n",
              "      <td>95/100</td>\n",
              "      <td>1</td>\n",
              "      <td>0</td>\n",
              "      <td>0</td>\n",
              "      <td>0</td>\n",
              "      <td>0</td>\n",
              "      <td>Alastair Fothergill,Jonathan Hughes,Keith Scholey</td>\n",
              "      <td>Documentary,Biography</td>\n",
              "      <td>United Kingdom</td>\n",
              "      <td>English</td>\n",
              "      <td>83.0</td>\n",
              "    </tr>\n",
              "    <tr>\n",
              "      <th>3</th>\n",
              "      <td>3</td>\n",
              "      <td>4</td>\n",
              "      <td>Lagaan: Once Upon a Time in India</td>\n",
              "      <td>2001</td>\n",
              "      <td>7+</td>\n",
              "      <td>8.1/10</td>\n",
              "      <td>94/100</td>\n",
              "      <td>1</td>\n",
              "      <td>0</td>\n",
              "      <td>0</td>\n",
              "      <td>0</td>\n",
              "      <td>0</td>\n",
              "      <td>Ashutosh Gowariker</td>\n",
              "      <td>Drama,Musical,Sport</td>\n",
              "      <td>India,United Kingdom</td>\n",
              "      <td>Hindi,English</td>\n",
              "      <td>224.0</td>\n",
              "    </tr>\n",
              "    <tr>\n",
              "      <th>4</th>\n",
              "      <td>4</td>\n",
              "      <td>5</td>\n",
              "      <td>Roma</td>\n",
              "      <td>2018</td>\n",
              "      <td>18+</td>\n",
              "      <td>7.7/10</td>\n",
              "      <td>94/100</td>\n",
              "      <td>1</td>\n",
              "      <td>0</td>\n",
              "      <td>0</td>\n",
              "      <td>0</td>\n",
              "      <td>0</td>\n",
              "      <td>NaN</td>\n",
              "      <td>Action,Drama,History,Romance,War</td>\n",
              "      <td>United Kingdom,United States</td>\n",
              "      <td>English</td>\n",
              "      <td>52.0</td>\n",
              "    </tr>\n",
              "  </tbody>\n",
              "</table>\n",
              "</div>"
            ],
            "text/plain": [
              "   Unnamed: 0  ID                                     Title  Year  Age  \\\n",
              "0           0   1                              The Irishman  2019  18+   \n",
              "1           1   2                                    Dangal  2016   7+   \n",
              "2           2   3  David Attenborough: A Life on Our Planet  2020   7+   \n",
              "3           3   4         Lagaan: Once Upon a Time in India  2001   7+   \n",
              "4           4   5                                      Roma  2018  18+   \n",
              "\n",
              "     IMDb Rotten Tomatoes  Netflix  Hulu  Prime Video  Disney+  Type  \\\n",
              "0  7.8/10          98/100        1     0            0        0     0   \n",
              "1  8.4/10          97/100        1     0            0        0     0   \n",
              "2  9.0/10          95/100        1     0            0        0     0   \n",
              "3  8.1/10          94/100        1     0            0        0     0   \n",
              "4  7.7/10          94/100        1     0            0        0     0   \n",
              "\n",
              "                                           Directors  \\\n",
              "0                                    Martin Scorsese   \n",
              "1                                      Nitesh Tiwari   \n",
              "2  Alastair Fothergill,Jonathan Hughes,Keith Scholey   \n",
              "3                                 Ashutosh Gowariker   \n",
              "4                                                NaN   \n",
              "\n",
              "                             Genres  \\\n",
              "0             Biography,Crime,Drama   \n",
              "1      Action,Biography,Drama,Sport   \n",
              "2             Documentary,Biography   \n",
              "3               Drama,Musical,Sport   \n",
              "4  Action,Drama,History,Romance,War   \n",
              "\n",
              "                                             Country  \\\n",
              "0                                      United States   \n",
              "1  India,United States,United Kingdom,Australia,K...   \n",
              "2                                     United Kingdom   \n",
              "3                               India,United Kingdom   \n",
              "4                       United Kingdom,United States   \n",
              "\n",
              "                               Language  Runtime  \n",
              "0  English,Italian,Latin,Spanish,German    209.0  \n",
              "1                         Hindi,English    161.0  \n",
              "2                               English     83.0  \n",
              "3                         Hindi,English    224.0  \n",
              "4                               English     52.0  "
            ]
          },
          "metadata": {},
          "execution_count": 14
        }
      ],
      "metadata": {
        "colab": {
          "base_uri": "https://localhost:8080/",
          "height": 397
        },
        "id": "WEBu7GjPfATT",
        "outputId": "2b5f2893-5ffc-49c5-818f-5ba8f2b3457e"
      }
    },
    {
      "cell_type": "code",
      "execution_count": 15,
      "source": [
        "df=df.iloc[:,1:]\r\n",
        "df.head()"
      ],
      "outputs": [
        {
          "output_type": "execute_result",
          "data": {
            "text/html": [
              "<div>\n",
              "<style scoped>\n",
              "    .dataframe tbody tr th:only-of-type {\n",
              "        vertical-align: middle;\n",
              "    }\n",
              "\n",
              "    .dataframe tbody tr th {\n",
              "        vertical-align: top;\n",
              "    }\n",
              "\n",
              "    .dataframe thead th {\n",
              "        text-align: right;\n",
              "    }\n",
              "</style>\n",
              "<table border=\"1\" class=\"dataframe\">\n",
              "  <thead>\n",
              "    <tr style=\"text-align: right;\">\n",
              "      <th></th>\n",
              "      <th>ID</th>\n",
              "      <th>Title</th>\n",
              "      <th>Year</th>\n",
              "      <th>Age</th>\n",
              "      <th>IMDb</th>\n",
              "      <th>Rotten Tomatoes</th>\n",
              "      <th>Netflix</th>\n",
              "      <th>Hulu</th>\n",
              "      <th>Prime Video</th>\n",
              "      <th>Disney+</th>\n",
              "      <th>Type</th>\n",
              "      <th>Directors</th>\n",
              "      <th>Genres</th>\n",
              "      <th>Country</th>\n",
              "      <th>Language</th>\n",
              "      <th>Runtime</th>\n",
              "    </tr>\n",
              "  </thead>\n",
              "  <tbody>\n",
              "    <tr>\n",
              "      <th>0</th>\n",
              "      <td>1</td>\n",
              "      <td>The Irishman</td>\n",
              "      <td>2019</td>\n",
              "      <td>18+</td>\n",
              "      <td>7.8/10</td>\n",
              "      <td>98/100</td>\n",
              "      <td>1</td>\n",
              "      <td>0</td>\n",
              "      <td>0</td>\n",
              "      <td>0</td>\n",
              "      <td>0</td>\n",
              "      <td>Martin Scorsese</td>\n",
              "      <td>Biography,Crime,Drama</td>\n",
              "      <td>United States</td>\n",
              "      <td>English,Italian,Latin,Spanish,German</td>\n",
              "      <td>209.0</td>\n",
              "    </tr>\n",
              "    <tr>\n",
              "      <th>1</th>\n",
              "      <td>2</td>\n",
              "      <td>Dangal</td>\n",
              "      <td>2016</td>\n",
              "      <td>7+</td>\n",
              "      <td>8.4/10</td>\n",
              "      <td>97/100</td>\n",
              "      <td>1</td>\n",
              "      <td>0</td>\n",
              "      <td>0</td>\n",
              "      <td>0</td>\n",
              "      <td>0</td>\n",
              "      <td>Nitesh Tiwari</td>\n",
              "      <td>Action,Biography,Drama,Sport</td>\n",
              "      <td>India,United States,United Kingdom,Australia,K...</td>\n",
              "      <td>Hindi,English</td>\n",
              "      <td>161.0</td>\n",
              "    </tr>\n",
              "    <tr>\n",
              "      <th>2</th>\n",
              "      <td>3</td>\n",
              "      <td>David Attenborough: A Life on Our Planet</td>\n",
              "      <td>2020</td>\n",
              "      <td>7+</td>\n",
              "      <td>9.0/10</td>\n",
              "      <td>95/100</td>\n",
              "      <td>1</td>\n",
              "      <td>0</td>\n",
              "      <td>0</td>\n",
              "      <td>0</td>\n",
              "      <td>0</td>\n",
              "      <td>Alastair Fothergill,Jonathan Hughes,Keith Scholey</td>\n",
              "      <td>Documentary,Biography</td>\n",
              "      <td>United Kingdom</td>\n",
              "      <td>English</td>\n",
              "      <td>83.0</td>\n",
              "    </tr>\n",
              "    <tr>\n",
              "      <th>3</th>\n",
              "      <td>4</td>\n",
              "      <td>Lagaan: Once Upon a Time in India</td>\n",
              "      <td>2001</td>\n",
              "      <td>7+</td>\n",
              "      <td>8.1/10</td>\n",
              "      <td>94/100</td>\n",
              "      <td>1</td>\n",
              "      <td>0</td>\n",
              "      <td>0</td>\n",
              "      <td>0</td>\n",
              "      <td>0</td>\n",
              "      <td>Ashutosh Gowariker</td>\n",
              "      <td>Drama,Musical,Sport</td>\n",
              "      <td>India,United Kingdom</td>\n",
              "      <td>Hindi,English</td>\n",
              "      <td>224.0</td>\n",
              "    </tr>\n",
              "    <tr>\n",
              "      <th>4</th>\n",
              "      <td>5</td>\n",
              "      <td>Roma</td>\n",
              "      <td>2018</td>\n",
              "      <td>18+</td>\n",
              "      <td>7.7/10</td>\n",
              "      <td>94/100</td>\n",
              "      <td>1</td>\n",
              "      <td>0</td>\n",
              "      <td>0</td>\n",
              "      <td>0</td>\n",
              "      <td>0</td>\n",
              "      <td>NaN</td>\n",
              "      <td>Action,Drama,History,Romance,War</td>\n",
              "      <td>United Kingdom,United States</td>\n",
              "      <td>English</td>\n",
              "      <td>52.0</td>\n",
              "    </tr>\n",
              "  </tbody>\n",
              "</table>\n",
              "</div>"
            ],
            "text/plain": [
              "   ID                                     Title  Year  Age    IMDb  \\\n",
              "0   1                              The Irishman  2019  18+  7.8/10   \n",
              "1   2                                    Dangal  2016   7+  8.4/10   \n",
              "2   3  David Attenborough: A Life on Our Planet  2020   7+  9.0/10   \n",
              "3   4         Lagaan: Once Upon a Time in India  2001   7+  8.1/10   \n",
              "4   5                                      Roma  2018  18+  7.7/10   \n",
              "\n",
              "  Rotten Tomatoes  Netflix  Hulu  Prime Video  Disney+  Type  \\\n",
              "0          98/100        1     0            0        0     0   \n",
              "1          97/100        1     0            0        0     0   \n",
              "2          95/100        1     0            0        0     0   \n",
              "3          94/100        1     0            0        0     0   \n",
              "4          94/100        1     0            0        0     0   \n",
              "\n",
              "                                           Directors  \\\n",
              "0                                    Martin Scorsese   \n",
              "1                                      Nitesh Tiwari   \n",
              "2  Alastair Fothergill,Jonathan Hughes,Keith Scholey   \n",
              "3                                 Ashutosh Gowariker   \n",
              "4                                                NaN   \n",
              "\n",
              "                             Genres  \\\n",
              "0             Biography,Crime,Drama   \n",
              "1      Action,Biography,Drama,Sport   \n",
              "2             Documentary,Biography   \n",
              "3               Drama,Musical,Sport   \n",
              "4  Action,Drama,History,Romance,War   \n",
              "\n",
              "                                             Country  \\\n",
              "0                                      United States   \n",
              "1  India,United States,United Kingdom,Australia,K...   \n",
              "2                                     United Kingdom   \n",
              "3                               India,United Kingdom   \n",
              "4                       United Kingdom,United States   \n",
              "\n",
              "                               Language  Runtime  \n",
              "0  English,Italian,Latin,Spanish,German    209.0  \n",
              "1                         Hindi,English    161.0  \n",
              "2                               English     83.0  \n",
              "3                         Hindi,English    224.0  \n",
              "4                               English     52.0  "
            ]
          },
          "metadata": {},
          "execution_count": 15
        }
      ],
      "metadata": {
        "colab": {
          "base_uri": "https://localhost:8080/",
          "height": 397
        },
        "id": "ueOFv8USn7xb",
        "outputId": "b6c899d3-e5a4-4fa3-a206-8295607e0683"
      }
    },
    {
      "cell_type": "code",
      "execution_count": 16,
      "source": [
        "df.describe()"
      ],
      "outputs": [
        {
          "output_type": "execute_result",
          "data": {
            "text/html": [
              "<div>\n",
              "<style scoped>\n",
              "    .dataframe tbody tr th:only-of-type {\n",
              "        vertical-align: middle;\n",
              "    }\n",
              "\n",
              "    .dataframe tbody tr th {\n",
              "        vertical-align: top;\n",
              "    }\n",
              "\n",
              "    .dataframe thead th {\n",
              "        text-align: right;\n",
              "    }\n",
              "</style>\n",
              "<table border=\"1\" class=\"dataframe\">\n",
              "  <thead>\n",
              "    <tr style=\"text-align: right;\">\n",
              "      <th></th>\n",
              "      <th>ID</th>\n",
              "      <th>Year</th>\n",
              "      <th>Netflix</th>\n",
              "      <th>Hulu</th>\n",
              "      <th>Prime Video</th>\n",
              "      <th>Disney+</th>\n",
              "      <th>Type</th>\n",
              "      <th>Runtime</th>\n",
              "    </tr>\n",
              "  </thead>\n",
              "  <tbody>\n",
              "    <tr>\n",
              "      <th>count</th>\n",
              "      <td>9515.000000</td>\n",
              "      <td>9515.000000</td>\n",
              "      <td>9515.000000</td>\n",
              "      <td>9515.000000</td>\n",
              "      <td>9515.000000</td>\n",
              "      <td>9515.000000</td>\n",
              "      <td>9515.0</td>\n",
              "      <td>9196.000000</td>\n",
              "    </tr>\n",
              "    <tr>\n",
              "      <th>mean</th>\n",
              "      <td>4758.000000</td>\n",
              "      <td>2007.422386</td>\n",
              "      <td>0.388334</td>\n",
              "      <td>0.110037</td>\n",
              "      <td>0.432265</td>\n",
              "      <td>0.096900</td>\n",
              "      <td>0.0</td>\n",
              "      <td>95.199435</td>\n",
              "    </tr>\n",
              "    <tr>\n",
              "      <th>std</th>\n",
              "      <td>2746.888239</td>\n",
              "      <td>19.130367</td>\n",
              "      <td>0.487397</td>\n",
              "      <td>0.312952</td>\n",
              "      <td>0.495417</td>\n",
              "      <td>0.295837</td>\n",
              "      <td>0.0</td>\n",
              "      <td>29.654047</td>\n",
              "    </tr>\n",
              "    <tr>\n",
              "      <th>min</th>\n",
              "      <td>1.000000</td>\n",
              "      <td>1914.000000</td>\n",
              "      <td>0.000000</td>\n",
              "      <td>0.000000</td>\n",
              "      <td>0.000000</td>\n",
              "      <td>0.000000</td>\n",
              "      <td>0.0</td>\n",
              "      <td>1.000000</td>\n",
              "    </tr>\n",
              "    <tr>\n",
              "      <th>25%</th>\n",
              "      <td>2379.500000</td>\n",
              "      <td>2006.000000</td>\n",
              "      <td>0.000000</td>\n",
              "      <td>0.000000</td>\n",
              "      <td>0.000000</td>\n",
              "      <td>0.000000</td>\n",
              "      <td>0.0</td>\n",
              "      <td>85.000000</td>\n",
              "    </tr>\n",
              "    <tr>\n",
              "      <th>50%</th>\n",
              "      <td>4758.000000</td>\n",
              "      <td>2015.000000</td>\n",
              "      <td>0.000000</td>\n",
              "      <td>0.000000</td>\n",
              "      <td>0.000000</td>\n",
              "      <td>0.000000</td>\n",
              "      <td>0.0</td>\n",
              "      <td>95.000000</td>\n",
              "    </tr>\n",
              "    <tr>\n",
              "      <th>75%</th>\n",
              "      <td>7136.500000</td>\n",
              "      <td>2018.000000</td>\n",
              "      <td>1.000000</td>\n",
              "      <td>0.000000</td>\n",
              "      <td>1.000000</td>\n",
              "      <td>0.000000</td>\n",
              "      <td>0.0</td>\n",
              "      <td>109.000000</td>\n",
              "    </tr>\n",
              "    <tr>\n",
              "      <th>max</th>\n",
              "      <td>9515.000000</td>\n",
              "      <td>2021.000000</td>\n",
              "      <td>1.000000</td>\n",
              "      <td>1.000000</td>\n",
              "      <td>1.000000</td>\n",
              "      <td>1.000000</td>\n",
              "      <td>0.0</td>\n",
              "      <td>566.000000</td>\n",
              "    </tr>\n",
              "  </tbody>\n",
              "</table>\n",
              "</div>"
            ],
            "text/plain": [
              "                ID         Year      Netflix         Hulu  Prime Video  \\\n",
              "count  9515.000000  9515.000000  9515.000000  9515.000000  9515.000000   \n",
              "mean   4758.000000  2007.422386     0.388334     0.110037     0.432265   \n",
              "std    2746.888239    19.130367     0.487397     0.312952     0.495417   \n",
              "min       1.000000  1914.000000     0.000000     0.000000     0.000000   \n",
              "25%    2379.500000  2006.000000     0.000000     0.000000     0.000000   \n",
              "50%    4758.000000  2015.000000     0.000000     0.000000     0.000000   \n",
              "75%    7136.500000  2018.000000     1.000000     0.000000     1.000000   \n",
              "max    9515.000000  2021.000000     1.000000     1.000000     1.000000   \n",
              "\n",
              "           Disney+    Type      Runtime  \n",
              "count  9515.000000  9515.0  9196.000000  \n",
              "mean      0.096900     0.0    95.199435  \n",
              "std       0.295837     0.0    29.654047  \n",
              "min       0.000000     0.0     1.000000  \n",
              "25%       0.000000     0.0    85.000000  \n",
              "50%       0.000000     0.0    95.000000  \n",
              "75%       0.000000     0.0   109.000000  \n",
              "max       1.000000     0.0   566.000000  "
            ]
          },
          "metadata": {},
          "execution_count": 16
        }
      ],
      "metadata": {
        "colab": {
          "base_uri": "https://localhost:8080/",
          "height": 299
        },
        "id": "2dW-lOLaoPlL",
        "outputId": "474fee56-9786-469e-f787-0270e947bebd"
      }
    },
    {
      "cell_type": "code",
      "execution_count": 17,
      "source": [
        "df.shape"
      ],
      "outputs": [
        {
          "output_type": "execute_result",
          "data": {
            "text/plain": [
              "(9515, 16)"
            ]
          },
          "metadata": {},
          "execution_count": 17
        }
      ],
      "metadata": {
        "colab": {
          "base_uri": "https://localhost:8080/"
        },
        "id": "4QDzuwduomVH",
        "outputId": "d70c0c1a-0b98-40c9-8418-dcb16f98c7fd"
      }
    },
    {
      "cell_type": "code",
      "execution_count": 18,
      "source": [
        "df.dtypes"
      ],
      "outputs": [
        {
          "output_type": "execute_result",
          "data": {
            "text/plain": [
              "ID                   int64\n",
              "Title               object\n",
              "Year                 int64\n",
              "Age                 object\n",
              "IMDb                object\n",
              "Rotten Tomatoes     object\n",
              "Netflix              int64\n",
              "Hulu                 int64\n",
              "Prime Video          int64\n",
              "Disney+              int64\n",
              "Type                 int64\n",
              "Directors           object\n",
              "Genres              object\n",
              "Country             object\n",
              "Language            object\n",
              "Runtime            float64\n",
              "dtype: object"
            ]
          },
          "metadata": {},
          "execution_count": 18
        }
      ],
      "metadata": {
        "colab": {
          "base_uri": "https://localhost:8080/"
        },
        "id": "f8lT3OWgpBys",
        "outputId": "cf30ecec-ac46-4ee7-bb7d-2a1c55ac73f1"
      }
    },
    {
      "cell_type": "code",
      "execution_count": 19,
      "source": [
        "df = df.drop(['ID'],axis=1)"
      ],
      "outputs": [],
      "metadata": {
        "id": "wA9yJm2RqcJp"
      }
    },
    {
      "cell_type": "code",
      "execution_count": 20,
      "source": [
        "df.isnull().mean()"
      ],
      "outputs": [
        {
          "output_type": "execute_result",
          "data": {
            "text/plain": [
              "Title              0.000000\n",
              "Year               0.000000\n",
              "Age                0.438991\n",
              "IMDb               0.021650\n",
              "Rotten Tomatoes    0.000736\n",
              "Netflix            0.000000\n",
              "Hulu               0.000000\n",
              "Prime Video        0.000000\n",
              "Disney+            0.000000\n",
              "Type               0.000000\n",
              "Directors          0.043195\n",
              "Genres             0.012191\n",
              "Country            0.026695\n",
              "Language           0.032895\n",
              "Runtime            0.033526\n",
              "dtype: float64"
            ]
          },
          "metadata": {},
          "execution_count": 20
        }
      ],
      "metadata": {
        "colab": {
          "base_uri": "https://localhost:8080/"
        },
        "id": "nSeGzeO-dPLs",
        "outputId": "d3b96247-08b0-4b5c-c5b3-6d66c1e35201"
      }
    },
    {
      "cell_type": "code",
      "execution_count": 21,
      "source": [
        "num = df.select_dtypes(include=['float64',\"int64\"])\r\n",
        "num.head()\r\n",
        "char = df.select_dtypes(include= 'object')\r\n",
        "char.head()"
      ],
      "outputs": [
        {
          "output_type": "execute_result",
          "data": {
            "text/html": [
              "<div>\n",
              "<style scoped>\n",
              "    .dataframe tbody tr th:only-of-type {\n",
              "        vertical-align: middle;\n",
              "    }\n",
              "\n",
              "    .dataframe tbody tr th {\n",
              "        vertical-align: top;\n",
              "    }\n",
              "\n",
              "    .dataframe thead th {\n",
              "        text-align: right;\n",
              "    }\n",
              "</style>\n",
              "<table border=\"1\" class=\"dataframe\">\n",
              "  <thead>\n",
              "    <tr style=\"text-align: right;\">\n",
              "      <th></th>\n",
              "      <th>Title</th>\n",
              "      <th>Age</th>\n",
              "      <th>IMDb</th>\n",
              "      <th>Rotten Tomatoes</th>\n",
              "      <th>Directors</th>\n",
              "      <th>Genres</th>\n",
              "      <th>Country</th>\n",
              "      <th>Language</th>\n",
              "    </tr>\n",
              "  </thead>\n",
              "  <tbody>\n",
              "    <tr>\n",
              "      <th>0</th>\n",
              "      <td>The Irishman</td>\n",
              "      <td>18+</td>\n",
              "      <td>7.8/10</td>\n",
              "      <td>98/100</td>\n",
              "      <td>Martin Scorsese</td>\n",
              "      <td>Biography,Crime,Drama</td>\n",
              "      <td>United States</td>\n",
              "      <td>English,Italian,Latin,Spanish,German</td>\n",
              "    </tr>\n",
              "    <tr>\n",
              "      <th>1</th>\n",
              "      <td>Dangal</td>\n",
              "      <td>7+</td>\n",
              "      <td>8.4/10</td>\n",
              "      <td>97/100</td>\n",
              "      <td>Nitesh Tiwari</td>\n",
              "      <td>Action,Biography,Drama,Sport</td>\n",
              "      <td>India,United States,United Kingdom,Australia,K...</td>\n",
              "      <td>Hindi,English</td>\n",
              "    </tr>\n",
              "    <tr>\n",
              "      <th>2</th>\n",
              "      <td>David Attenborough: A Life on Our Planet</td>\n",
              "      <td>7+</td>\n",
              "      <td>9.0/10</td>\n",
              "      <td>95/100</td>\n",
              "      <td>Alastair Fothergill,Jonathan Hughes,Keith Scholey</td>\n",
              "      <td>Documentary,Biography</td>\n",
              "      <td>United Kingdom</td>\n",
              "      <td>English</td>\n",
              "    </tr>\n",
              "    <tr>\n",
              "      <th>3</th>\n",
              "      <td>Lagaan: Once Upon a Time in India</td>\n",
              "      <td>7+</td>\n",
              "      <td>8.1/10</td>\n",
              "      <td>94/100</td>\n",
              "      <td>Ashutosh Gowariker</td>\n",
              "      <td>Drama,Musical,Sport</td>\n",
              "      <td>India,United Kingdom</td>\n",
              "      <td>Hindi,English</td>\n",
              "    </tr>\n",
              "    <tr>\n",
              "      <th>4</th>\n",
              "      <td>Roma</td>\n",
              "      <td>18+</td>\n",
              "      <td>7.7/10</td>\n",
              "      <td>94/100</td>\n",
              "      <td>NaN</td>\n",
              "      <td>Action,Drama,History,Romance,War</td>\n",
              "      <td>United Kingdom,United States</td>\n",
              "      <td>English</td>\n",
              "    </tr>\n",
              "  </tbody>\n",
              "</table>\n",
              "</div>"
            ],
            "text/plain": [
              "                                      Title  Age    IMDb Rotten Tomatoes  \\\n",
              "0                              The Irishman  18+  7.8/10          98/100   \n",
              "1                                    Dangal   7+  8.4/10          97/100   \n",
              "2  David Attenborough: A Life on Our Planet   7+  9.0/10          95/100   \n",
              "3         Lagaan: Once Upon a Time in India   7+  8.1/10          94/100   \n",
              "4                                      Roma  18+  7.7/10          94/100   \n",
              "\n",
              "                                           Directors  \\\n",
              "0                                    Martin Scorsese   \n",
              "1                                      Nitesh Tiwari   \n",
              "2  Alastair Fothergill,Jonathan Hughes,Keith Scholey   \n",
              "3                                 Ashutosh Gowariker   \n",
              "4                                                NaN   \n",
              "\n",
              "                             Genres  \\\n",
              "0             Biography,Crime,Drama   \n",
              "1      Action,Biography,Drama,Sport   \n",
              "2             Documentary,Biography   \n",
              "3               Drama,Musical,Sport   \n",
              "4  Action,Drama,History,Romance,War   \n",
              "\n",
              "                                             Country  \\\n",
              "0                                      United States   \n",
              "1  India,United States,United Kingdom,Australia,K...   \n",
              "2                                     United Kingdom   \n",
              "3                               India,United Kingdom   \n",
              "4                       United Kingdom,United States   \n",
              "\n",
              "                               Language  \n",
              "0  English,Italian,Latin,Spanish,German  \n",
              "1                         Hindi,English  \n",
              "2                               English  \n",
              "3                         Hindi,English  \n",
              "4                               English  "
            ]
          },
          "metadata": {},
          "execution_count": 21
        }
      ],
      "metadata": {
        "colab": {
          "base_uri": "https://localhost:8080/",
          "height": 274
        },
        "id": "2B1XaqfwfU3l",
        "outputId": "f0757772-f541-4711-9dce-b6169918e194"
      }
    },
    {
      "cell_type": "code",
      "execution_count": 22,
      "source": [
        "num = num.loc[:,num.isnull().mean() <= .25]"
      ],
      "outputs": [],
      "metadata": {
        "id": "6pYcZXf6dY0-"
      }
    },
    {
      "cell_type": "code",
      "execution_count": 23,
      "source": [
        "from sklearn.impute import SimpleImputer\r\n",
        "imputer = SimpleImputer(missing_values=np.nan, strategy='mean')\r\n",
        "num1 =pd.DataFrame(imputer.fit_transform(num),index=df.index,columns=num.columns)"
      ],
      "outputs": [],
      "metadata": {
        "id": "_qJWsVUMdt0t"
      }
    },
    {
      "cell_type": "code",
      "execution_count": 24,
      "source": [
        "num1.isnull().mean()"
      ],
      "outputs": [
        {
          "output_type": "execute_result",
          "data": {
            "text/plain": [
              "Year           0.0\n",
              "Netflix        0.0\n",
              "Hulu           0.0\n",
              "Prime Video    0.0\n",
              "Disney+        0.0\n",
              "Type           0.0\n",
              "Runtime        0.0\n",
              "dtype: float64"
            ]
          },
          "metadata": {},
          "execution_count": 24
        }
      ],
      "metadata": {
        "colab": {
          "base_uri": "https://localhost:8080/"
        },
        "id": "-9UvyvjneSYh",
        "outputId": "ada81f17-2d41-42e7-bdba-579f50187631"
      }
    },
    {
      "cell_type": "code",
      "execution_count": 25,
      "source": [
        "char.isna().mean()"
      ],
      "outputs": [
        {
          "output_type": "execute_result",
          "data": {
            "text/plain": [
              "Title              0.000000\n",
              "Age                0.438991\n",
              "IMDb               0.021650\n",
              "Rotten Tomatoes    0.000736\n",
              "Directors          0.043195\n",
              "Genres             0.012191\n",
              "Country            0.026695\n",
              "Language           0.032895\n",
              "dtype: float64"
            ]
          },
          "metadata": {},
          "execution_count": 25
        }
      ],
      "metadata": {
        "colab": {
          "base_uri": "https://localhost:8080/"
        },
        "id": "At2P1tmPeY_L",
        "outputId": "0a5c9e07-c1ef-425e-e9c4-bfc7e9d61e0d"
      }
    },
    {
      "cell_type": "code",
      "execution_count": 26,
      "source": [
        "char = char.loc[:,char.isnull().mean() <= .25]"
      ],
      "outputs": [],
      "metadata": {
        "id": "YMxxv_PUef7U"
      }
    },
    {
      "cell_type": "code",
      "execution_count": 27,
      "source": [
        "from sklearn.impute import SimpleImputer \r\n",
        "imputer=SimpleImputer(missing_values=np.nan, strategy='most_frequent') \r\n",
        "char1=pd.DataFrame(imputer.fit_transform(char),index=char.index,columns=char.columns)"
      ],
      "outputs": [],
      "metadata": {
        "id": "zdjYCsgCgaxh"
      }
    },
    {
      "cell_type": "code",
      "execution_count": 28,
      "source": [
        "char1.isna().mean()"
      ],
      "outputs": [
        {
          "output_type": "execute_result",
          "data": {
            "text/plain": [
              "Title              0.0\n",
              "IMDb               0.0\n",
              "Rotten Tomatoes    0.0\n",
              "Directors          0.0\n",
              "Genres             0.0\n",
              "Country            0.0\n",
              "Language           0.0\n",
              "dtype: float64"
            ]
          },
          "metadata": {},
          "execution_count": 28
        }
      ],
      "metadata": {
        "colab": {
          "base_uri": "https://localhost:8080/"
        },
        "id": "uaUmItbphlE8",
        "outputId": "41aa7e5e-b789-4edf-87a8-24a53aae4d94"
      }
    },
    {
      "cell_type": "code",
      "execution_count": 29,
      "source": [
        "def unique_levels(x):\r\n",
        "    x=x.value_counts().count()\r\n",
        "    return(x)\r\n",
        "char_value_counts=pd.DataFrame(char.apply(lambda x : unique_levels(x)))\r\n",
        "char_value_counts"
      ],
      "outputs": [
        {
          "output_type": "execute_result",
          "data": {
            "text/html": [
              "<div>\n",
              "<style scoped>\n",
              "    .dataframe tbody tr th:only-of-type {\n",
              "        vertical-align: middle;\n",
              "    }\n",
              "\n",
              "    .dataframe tbody tr th {\n",
              "        vertical-align: top;\n",
              "    }\n",
              "\n",
              "    .dataframe thead th {\n",
              "        text-align: right;\n",
              "    }\n",
              "</style>\n",
              "<table border=\"1\" class=\"dataframe\">\n",
              "  <thead>\n",
              "    <tr style=\"text-align: right;\">\n",
              "      <th></th>\n",
              "      <th>0</th>\n",
              "    </tr>\n",
              "  </thead>\n",
              "  <tbody>\n",
              "    <tr>\n",
              "      <th>Title</th>\n",
              "      <td>9515</td>\n",
              "    </tr>\n",
              "    <tr>\n",
              "      <th>IMDb</th>\n",
              "      <td>81</td>\n",
              "    </tr>\n",
              "    <tr>\n",
              "      <th>Rotten Tomatoes</th>\n",
              "      <td>85</td>\n",
              "    </tr>\n",
              "    <tr>\n",
              "      <th>Directors</th>\n",
              "      <td>6617</td>\n",
              "    </tr>\n",
              "    <tr>\n",
              "      <th>Genres</th>\n",
              "      <td>1418</td>\n",
              "    </tr>\n",
              "    <tr>\n",
              "      <th>Country</th>\n",
              "      <td>903</td>\n",
              "    </tr>\n",
              "    <tr>\n",
              "      <th>Language</th>\n",
              "      <td>813</td>\n",
              "    </tr>\n",
              "  </tbody>\n",
              "</table>\n",
              "</div>"
            ],
            "text/plain": [
              "                    0\n",
              "Title            9515\n",
              "IMDb               81\n",
              "Rotten Tomatoes    85\n",
              "Directors        6617\n",
              "Genres           1418\n",
              "Country           903\n",
              "Language          813"
            ]
          },
          "metadata": {},
          "execution_count": 29
        }
      ],
      "metadata": {
        "colab": {
          "base_uri": "https://localhost:8080/",
          "height": 267
        },
        "id": "78Atg5q_gCgR",
        "outputId": "d9f362d6-bb7f-4ca1-b4fa-619863a026db"
      }
    },
    {
      "cell_type": "code",
      "execution_count": 30,
      "source": [
        "char1[\"IMDb\"] = [str(score)[0:3] for score in char1[\"IMDb\"]]\r\n",
        "char1[\"Rotten Tomatoes\"] = [str(score)[0:2] for score in char1[\"Rotten Tomatoes\"]]\r\n",
        "char1 = char1.astype({\"IMDb\":'float', \"Rotten Tomatoes\":'int64'})\r\n",
        "char1.head()"
      ],
      "outputs": [
        {
          "output_type": "execute_result",
          "data": {
            "text/html": [
              "<div>\n",
              "<style scoped>\n",
              "    .dataframe tbody tr th:only-of-type {\n",
              "        vertical-align: middle;\n",
              "    }\n",
              "\n",
              "    .dataframe tbody tr th {\n",
              "        vertical-align: top;\n",
              "    }\n",
              "\n",
              "    .dataframe thead th {\n",
              "        text-align: right;\n",
              "    }\n",
              "</style>\n",
              "<table border=\"1\" class=\"dataframe\">\n",
              "  <thead>\n",
              "    <tr style=\"text-align: right;\">\n",
              "      <th></th>\n",
              "      <th>Title</th>\n",
              "      <th>IMDb</th>\n",
              "      <th>Rotten Tomatoes</th>\n",
              "      <th>Directors</th>\n",
              "      <th>Genres</th>\n",
              "      <th>Country</th>\n",
              "      <th>Language</th>\n",
              "    </tr>\n",
              "  </thead>\n",
              "  <tbody>\n",
              "    <tr>\n",
              "      <th>0</th>\n",
              "      <td>The Irishman</td>\n",
              "      <td>7.8</td>\n",
              "      <td>98</td>\n",
              "      <td>Martin Scorsese</td>\n",
              "      <td>Biography,Crime,Drama</td>\n",
              "      <td>United States</td>\n",
              "      <td>English,Italian,Latin,Spanish,German</td>\n",
              "    </tr>\n",
              "    <tr>\n",
              "      <th>1</th>\n",
              "      <td>Dangal</td>\n",
              "      <td>8.4</td>\n",
              "      <td>97</td>\n",
              "      <td>Nitesh Tiwari</td>\n",
              "      <td>Action,Biography,Drama,Sport</td>\n",
              "      <td>India,United States,United Kingdom,Australia,K...</td>\n",
              "      <td>Hindi,English</td>\n",
              "    </tr>\n",
              "    <tr>\n",
              "      <th>2</th>\n",
              "      <td>David Attenborough: A Life on Our Planet</td>\n",
              "      <td>9.0</td>\n",
              "      <td>95</td>\n",
              "      <td>Alastair Fothergill,Jonathan Hughes,Keith Scholey</td>\n",
              "      <td>Documentary,Biography</td>\n",
              "      <td>United Kingdom</td>\n",
              "      <td>English</td>\n",
              "    </tr>\n",
              "    <tr>\n",
              "      <th>3</th>\n",
              "      <td>Lagaan: Once Upon a Time in India</td>\n",
              "      <td>8.1</td>\n",
              "      <td>94</td>\n",
              "      <td>Ashutosh Gowariker</td>\n",
              "      <td>Drama,Musical,Sport</td>\n",
              "      <td>India,United Kingdom</td>\n",
              "      <td>Hindi,English</td>\n",
              "    </tr>\n",
              "    <tr>\n",
              "      <th>4</th>\n",
              "      <td>Roma</td>\n",
              "      <td>7.7</td>\n",
              "      <td>94</td>\n",
              "      <td>Jay Chapman</td>\n",
              "      <td>Action,Drama,History,Romance,War</td>\n",
              "      <td>United Kingdom,United States</td>\n",
              "      <td>English</td>\n",
              "    </tr>\n",
              "  </tbody>\n",
              "</table>\n",
              "</div>"
            ],
            "text/plain": [
              "                                      Title  IMDb  Rotten Tomatoes  \\\n",
              "0                              The Irishman   7.8               98   \n",
              "1                                    Dangal   8.4               97   \n",
              "2  David Attenborough: A Life on Our Planet   9.0               95   \n",
              "3         Lagaan: Once Upon a Time in India   8.1               94   \n",
              "4                                      Roma   7.7               94   \n",
              "\n",
              "                                           Directors  \\\n",
              "0                                    Martin Scorsese   \n",
              "1                                      Nitesh Tiwari   \n",
              "2  Alastair Fothergill,Jonathan Hughes,Keith Scholey   \n",
              "3                                 Ashutosh Gowariker   \n",
              "4                                        Jay Chapman   \n",
              "\n",
              "                             Genres  \\\n",
              "0             Biography,Crime,Drama   \n",
              "1      Action,Biography,Drama,Sport   \n",
              "2             Documentary,Biography   \n",
              "3               Drama,Musical,Sport   \n",
              "4  Action,Drama,History,Romance,War   \n",
              "\n",
              "                                             Country  \\\n",
              "0                                      United States   \n",
              "1  India,United States,United Kingdom,Australia,K...   \n",
              "2                                     United Kingdom   \n",
              "3                               India,United Kingdom   \n",
              "4                       United Kingdom,United States   \n",
              "\n",
              "                               Language  \n",
              "0  English,Italian,Latin,Spanish,German  \n",
              "1                         Hindi,English  \n",
              "2                               English  \n",
              "3                         Hindi,English  \n",
              "4                               English  "
            ]
          },
          "metadata": {},
          "execution_count": 30
        }
      ],
      "metadata": {
        "colab": {
          "base_uri": "https://localhost:8080/",
          "height": 274
        },
        "id": "Hd1FafduXouT",
        "outputId": "433b27fb-2b69-4a1e-e07d-23fcfbfd3f88"
      }
    },
    {
      "cell_type": "code",
      "execution_count": 31,
      "source": [
        "char2 = char1.select_dtypes(include=['float64',\"int64\"])\r\n",
        "char = char1.select_dtypes(include= 'object') "
      ],
      "outputs": [],
      "metadata": {
        "id": "UntKiTPPiq2u"
      }
    },
    {
      "cell_type": "code",
      "execution_count": 32,
      "source": [
        "char.head()"
      ],
      "outputs": [
        {
          "output_type": "execute_result",
          "data": {
            "text/html": [
              "<div>\n",
              "<style scoped>\n",
              "    .dataframe tbody tr th:only-of-type {\n",
              "        vertical-align: middle;\n",
              "    }\n",
              "\n",
              "    .dataframe tbody tr th {\n",
              "        vertical-align: top;\n",
              "    }\n",
              "\n",
              "    .dataframe thead th {\n",
              "        text-align: right;\n",
              "    }\n",
              "</style>\n",
              "<table border=\"1\" class=\"dataframe\">\n",
              "  <thead>\n",
              "    <tr style=\"text-align: right;\">\n",
              "      <th></th>\n",
              "      <th>Title</th>\n",
              "      <th>Directors</th>\n",
              "      <th>Genres</th>\n",
              "      <th>Country</th>\n",
              "      <th>Language</th>\n",
              "    </tr>\n",
              "  </thead>\n",
              "  <tbody>\n",
              "    <tr>\n",
              "      <th>0</th>\n",
              "      <td>The Irishman</td>\n",
              "      <td>Martin Scorsese</td>\n",
              "      <td>Biography,Crime,Drama</td>\n",
              "      <td>United States</td>\n",
              "      <td>English,Italian,Latin,Spanish,German</td>\n",
              "    </tr>\n",
              "    <tr>\n",
              "      <th>1</th>\n",
              "      <td>Dangal</td>\n",
              "      <td>Nitesh Tiwari</td>\n",
              "      <td>Action,Biography,Drama,Sport</td>\n",
              "      <td>India,United States,United Kingdom,Australia,K...</td>\n",
              "      <td>Hindi,English</td>\n",
              "    </tr>\n",
              "    <tr>\n",
              "      <th>2</th>\n",
              "      <td>David Attenborough: A Life on Our Planet</td>\n",
              "      <td>Alastair Fothergill,Jonathan Hughes,Keith Scholey</td>\n",
              "      <td>Documentary,Biography</td>\n",
              "      <td>United Kingdom</td>\n",
              "      <td>English</td>\n",
              "    </tr>\n",
              "    <tr>\n",
              "      <th>3</th>\n",
              "      <td>Lagaan: Once Upon a Time in India</td>\n",
              "      <td>Ashutosh Gowariker</td>\n",
              "      <td>Drama,Musical,Sport</td>\n",
              "      <td>India,United Kingdom</td>\n",
              "      <td>Hindi,English</td>\n",
              "    </tr>\n",
              "    <tr>\n",
              "      <th>4</th>\n",
              "      <td>Roma</td>\n",
              "      <td>Jay Chapman</td>\n",
              "      <td>Action,Drama,History,Romance,War</td>\n",
              "      <td>United Kingdom,United States</td>\n",
              "      <td>English</td>\n",
              "    </tr>\n",
              "  </tbody>\n",
              "</table>\n",
              "</div>"
            ],
            "text/plain": [
              "                                      Title  \\\n",
              "0                              The Irishman   \n",
              "1                                    Dangal   \n",
              "2  David Attenborough: A Life on Our Planet   \n",
              "3         Lagaan: Once Upon a Time in India   \n",
              "4                                      Roma   \n",
              "\n",
              "                                           Directors  \\\n",
              "0                                    Martin Scorsese   \n",
              "1                                      Nitesh Tiwari   \n",
              "2  Alastair Fothergill,Jonathan Hughes,Keith Scholey   \n",
              "3                                 Ashutosh Gowariker   \n",
              "4                                        Jay Chapman   \n",
              "\n",
              "                             Genres  \\\n",
              "0             Biography,Crime,Drama   \n",
              "1      Action,Biography,Drama,Sport   \n",
              "2             Documentary,Biography   \n",
              "3               Drama,Musical,Sport   \n",
              "4  Action,Drama,History,Romance,War   \n",
              "\n",
              "                                             Country  \\\n",
              "0                                      United States   \n",
              "1  India,United States,United Kingdom,Australia,K...   \n",
              "2                                     United Kingdom   \n",
              "3                               India,United Kingdom   \n",
              "4                       United Kingdom,United States   \n",
              "\n",
              "                               Language  \n",
              "0  English,Italian,Latin,Spanish,German  \n",
              "1                         Hindi,English  \n",
              "2                               English  \n",
              "3                         Hindi,English  \n",
              "4                               English  "
            ]
          },
          "metadata": {},
          "execution_count": 32
        }
      ],
      "metadata": {
        "colab": {
          "base_uri": "https://localhost:8080/",
          "height": 256
        },
        "id": "aM2NpRH9rGq3",
        "outputId": "9e8a305d-d072-424c-b506-e4599a91c629"
      }
    },
    {
      "cell_type": "code",
      "execution_count": 33,
      "source": [
        "num = pd.concat([num1,char2],axis=1,join=\"inner\")"
      ],
      "outputs": [],
      "metadata": {
        "id": "26Z1vXO1qvzO"
      }
    },
    {
      "cell_type": "code",
      "execution_count": 34,
      "source": [
        "num.head()"
      ],
      "outputs": [
        {
          "output_type": "execute_result",
          "data": {
            "text/html": [
              "<div>\n",
              "<style scoped>\n",
              "    .dataframe tbody tr th:only-of-type {\n",
              "        vertical-align: middle;\n",
              "    }\n",
              "\n",
              "    .dataframe tbody tr th {\n",
              "        vertical-align: top;\n",
              "    }\n",
              "\n",
              "    .dataframe thead th {\n",
              "        text-align: right;\n",
              "    }\n",
              "</style>\n",
              "<table border=\"1\" class=\"dataframe\">\n",
              "  <thead>\n",
              "    <tr style=\"text-align: right;\">\n",
              "      <th></th>\n",
              "      <th>Year</th>\n",
              "      <th>Netflix</th>\n",
              "      <th>Hulu</th>\n",
              "      <th>Prime Video</th>\n",
              "      <th>Disney+</th>\n",
              "      <th>Type</th>\n",
              "      <th>Runtime</th>\n",
              "      <th>IMDb</th>\n",
              "      <th>Rotten Tomatoes</th>\n",
              "    </tr>\n",
              "  </thead>\n",
              "  <tbody>\n",
              "    <tr>\n",
              "      <th>0</th>\n",
              "      <td>2019.0</td>\n",
              "      <td>1.0</td>\n",
              "      <td>0.0</td>\n",
              "      <td>0.0</td>\n",
              "      <td>0.0</td>\n",
              "      <td>0.0</td>\n",
              "      <td>209.0</td>\n",
              "      <td>7.8</td>\n",
              "      <td>98</td>\n",
              "    </tr>\n",
              "    <tr>\n",
              "      <th>1</th>\n",
              "      <td>2016.0</td>\n",
              "      <td>1.0</td>\n",
              "      <td>0.0</td>\n",
              "      <td>0.0</td>\n",
              "      <td>0.0</td>\n",
              "      <td>0.0</td>\n",
              "      <td>161.0</td>\n",
              "      <td>8.4</td>\n",
              "      <td>97</td>\n",
              "    </tr>\n",
              "    <tr>\n",
              "      <th>2</th>\n",
              "      <td>2020.0</td>\n",
              "      <td>1.0</td>\n",
              "      <td>0.0</td>\n",
              "      <td>0.0</td>\n",
              "      <td>0.0</td>\n",
              "      <td>0.0</td>\n",
              "      <td>83.0</td>\n",
              "      <td>9.0</td>\n",
              "      <td>95</td>\n",
              "    </tr>\n",
              "    <tr>\n",
              "      <th>3</th>\n",
              "      <td>2001.0</td>\n",
              "      <td>1.0</td>\n",
              "      <td>0.0</td>\n",
              "      <td>0.0</td>\n",
              "      <td>0.0</td>\n",
              "      <td>0.0</td>\n",
              "      <td>224.0</td>\n",
              "      <td>8.1</td>\n",
              "      <td>94</td>\n",
              "    </tr>\n",
              "    <tr>\n",
              "      <th>4</th>\n",
              "      <td>2018.0</td>\n",
              "      <td>1.0</td>\n",
              "      <td>0.0</td>\n",
              "      <td>0.0</td>\n",
              "      <td>0.0</td>\n",
              "      <td>0.0</td>\n",
              "      <td>52.0</td>\n",
              "      <td>7.7</td>\n",
              "      <td>94</td>\n",
              "    </tr>\n",
              "  </tbody>\n",
              "</table>\n",
              "</div>"
            ],
            "text/plain": [
              "     Year  Netflix  Hulu  Prime Video  Disney+  Type  Runtime  IMDb  \\\n",
              "0  2019.0      1.0   0.0          0.0      0.0   0.0    209.0   7.8   \n",
              "1  2016.0      1.0   0.0          0.0      0.0   0.0    161.0   8.4   \n",
              "2  2020.0      1.0   0.0          0.0      0.0   0.0     83.0   9.0   \n",
              "3  2001.0      1.0   0.0          0.0      0.0   0.0    224.0   8.1   \n",
              "4  2018.0      1.0   0.0          0.0      0.0   0.0     52.0   7.7   \n",
              "\n",
              "   Rotten Tomatoes  \n",
              "0               98  \n",
              "1               97  \n",
              "2               95  \n",
              "3               94  \n",
              "4               94  "
            ]
          },
          "metadata": {},
          "execution_count": 34
        }
      ],
      "metadata": {
        "colab": {
          "base_uri": "https://localhost:8080/",
          "height": 205
        },
        "id": "h_0oQcDOjEqi",
        "outputId": "58e60a0f-86f8-460a-eca3-f645a49fd89b"
      }
    },
    {
      "cell_type": "code",
      "execution_count": 35,
      "source": [
        "plt.figure(figsize=(20,5))\r\n",
        "sns.distplot(num['Year'])\r\n",
        "plt.show()"
      ],
      "outputs": [
        {
          "output_type": "display_data",
          "data": {
            "image/png": "[encoded data removed]",
            "text/plain": [
              "<Figure size 1440x360 with 1 Axes>"
            ]
          },
          "metadata": {
            "needs_background": "light"
          }
        }
      ],
      "metadata": {
        "colab": {
          "base_uri": "https://localhost:8080/",
          "height": 334
        },
        "id": "bmqdiNxm1sVK",
        "outputId": "956b7dd4-de5f-4e2e-b421-6c89be953640"
      }
    },
    {
      "cell_type": "code",
      "execution_count": 36,
      "source": [
        "plt.figure(figsize=(20,5))\r\n",
        "sns.distplot(num['IMDb'])\r\n",
        "plt.show()"
      ],
      "outputs": [
        {
          "output_type": "display_data",
          "data": {
            "image/png": "[encoded data removed]",
            "text/plain": [
              "<Figure size 1440x360 with 1 Axes>"
            ]
          },
          "metadata": {
            "needs_background": "light"
          }
        }
      ],
      "metadata": {
        "colab": {
          "base_uri": "https://localhost:8080/",
          "height": 334
        },
        "id": "D8AWTn6_1vq5",
        "outputId": "e905adf4-e605-45e4-b194-c82ce1aaf811"
      }
    },
    {
      "cell_type": "code",
      "execution_count": 37,
      "source": [
        "plt.figure(figsize=(20,5))\r\n",
        "sns.distplot(num['Rotten Tomatoes'])\r\n",
        "plt.show()"
      ],
      "outputs": [
        {
          "output_type": "display_data",
          "data": {
            "image/png": "[encoded data removed]",
            "text/plain": [
              "<Figure size 1440x360 with 1 Axes>"
            ]
          },
          "metadata": {
            "needs_background": "light"
          }
        }
      ],
      "metadata": {
        "colab": {
          "base_uri": "https://localhost:8080/",
          "height": 334
        },
        "id": "8wl6ENycjbp7",
        "outputId": "ed869f8b-e641-4ded-dd7d-3a64d17a013d"
      }
    },
    {
      "cell_type": "code",
      "execution_count": 38,
      "source": [
        "plt.figure(figsize=(20,5))\r\n",
        "sns.distplot(num['Runtime'])\r\n",
        "plt.show()"
      ],
      "outputs": [
        {
          "output_type": "display_data",
          "data": {
            "image/png": "[encoded data removed]",
            "text/plain": [
              "<Figure size 1440x360 with 1 Axes>"
            ]
          },
          "metadata": {
            "needs_background": "light"
          }
        }
      ],
      "metadata": {
        "colab": {
          "base_uri": "https://localhost:8080/",
          "height": 334
        },
        "id": "Q9glm4Ynjkle",
        "outputId": "a435b897-cc3a-4456-dc23-5b67b93961de"
      }
    },
    {
      "cell_type": "code",
      "execution_count": 39,
      "source": [
        "def movie_count(platfor, count=False):\r\n",
        "    if count==False:\r\n",
        "        print('Platform {} Count: {}'. format(platfor, df[platfor].sum()))\r\n",
        "    else:\r\n",
        "        return df[platfor].sum()"
      ],
      "outputs": [],
      "metadata": {
        "id": "G1w2_nbssDFM"
      }
    },
    {
      "cell_type": "code",
      "execution_count": 40,
      "source": [
        "movie_count('Netflix')\r\n",
        "movie_count('Hulu')\r\n",
        "movie_count('Prime Video')\r\n",
        "movie_count('Disney+')"
      ],
      "outputs": [
        {
          "output_type": "stream",
          "name": "stdout",
          "text": [
            "Platform Netflix Count: 3695\n",
            "Platform Hulu Count: 1047\n",
            "Platform Prime Video Count: 4113\n",
            "Platform Disney+ Count: 922\n"
          ]
        }
      ],
      "metadata": {
        "colab": {
          "base_uri": "https://localhost:8080/"
        },
        "id": "bQ_GsAABxC4l",
        "outputId": "cf763444-bef0-42b5-b879-12e7176bd9d3"
      }
    },
    {
      "cell_type": "code",
      "execution_count": 41,
      "source": [
        "plat = 'Prime Video','Netflix', 'Hulu', 'Disney'\r\n",
        "por = [movie_count('Netflix', count = True),\r\n",
        "       movie_count('Prime Video', count=True),\r\n",
        "       movie_count('Hulu', count = True),\r\n",
        "       movie_count('Disney+', count= True),]\r\n",
        "fig1, ax1 = plt.subplots()\r\n",
        "ax1.pie (por, labels = plat, autopct = '%1.1f%%', explode = (0.05,0.05,0.05,0.05), shadow = True, startangle = 100 )\r\n",
        "plt.show()"
      ],
      "outputs": [
        {
          "output_type": "display_data",
          "data": {
            "image/png": "[encoded data removed]",
            "text/plain": [
              "<Figure size 432x288 with 1 Axes>"
            ]
          },
          "metadata": {}
        }
      ],
      "metadata": {
        "colab": {
          "base_uri": "https://localhost:8080/",
          "height": 248
        },
        "id": "X9AFAr6TxMTK",
        "outputId": "64d82623-d76c-4aad-b7fb-4d41d57deae8"
      }
    },
    {
      "cell_type": "code",
      "execution_count": 42,
      "source": [
        "gen = char['Genres'].str.split(',').apply(pd.Series, 1).stack()\r\n",
        "gen.index = gen.index.droplevel(-1)\r\n",
        "gen.name = 'Genres'\r\n",
        "del char['Genres']\r\n",
        "df_genres = char.join(gen)"
      ],
      "outputs": [],
      "metadata": {
        "id": "NoJL6JoBkyLv"
      }
    },
    {
      "cell_type": "code",
      "execution_count": 43,
      "source": [
        "plt.figure(figsize=(15,5))\r\n",
        "sns.countplot(x='Genres', data=df_genres)\r\n",
        "plt.xticks(rotation=90)\r\n",
        "plt.show()"
      ],
      "outputs": [
        {
          "output_type": "display_data",
          "data": {
            "image/png": "[encoded data removed]",
            "text/plain": [
              "<Figure size 1080x360 with 1 Axes>"
            ]
          },
          "metadata": {
            "needs_background": "light"
          }
        }
      ],
      "metadata": {
        "colab": {
          "base_uri": "https://localhost:8080/",
          "height": 391
        },
        "id": "Dj0YXmL-qZND",
        "outputId": "d72a7923-0920-429a-d9ba-355d74098fc7"
      }
    },
    {
      "cell_type": "code",
      "execution_count": 44,
      "source": [
        "countr = char['Country'].str.split(',').apply(pd.Series, 1).stack()\r\n",
        "countr.index = countr.index.droplevel(-1)\r\n",
        "countr.name = 'Country'\r\n",
        "del char['Country']\r\n",
        "df_country = char.join(countr)"
      ],
      "outputs": [],
      "metadata": {
        "id": "K4aWCrwlraPt"
      }
    },
    {
      "cell_type": "code",
      "execution_count": 45,
      "source": [
        "df_country['Country'].value_counts()[:15].plot(kind='bar',figsize=(23,5))\r\n",
        "plt.show()"
      ],
      "outputs": [
        {
          "output_type": "display_data",
          "data": {
            "image/png": "[encoded data removed]",
            "text/plain": [
              "<Figure size 1656x360 with 1 Axes>"
            ]
          },
          "metadata": {
            "needs_background": "light"
          }
        }
      ],
      "metadata": {
        "colab": {
          "base_uri": "https://localhost:8080/",
          "height": 396
        },
        "id": "HY6MUrvOr_7G",
        "outputId": "318038f9-8dd9-4e6e-ecee-2adc27f9e788"
      }
    },
    {
      "cell_type": "code",
      "execution_count": 46,
      "source": [
        "lang = char['Language'].str.split(',').apply(pd.Series, 1).stack()\r\n",
        "lang.index = lang.index.droplevel(-1)\r\n",
        "lang.name = 'Language'\r\n",
        "del char['Language']\r\n",
        "df_language = char.join(lang)"
      ],
      "outputs": [],
      "metadata": {
        "id": "t0qpiFcUsHDL"
      }
    },
    {
      "cell_type": "code",
      "execution_count": 47,
      "source": [
        "df_country['Language'].value_counts()[:10].plot(kind='bar',figsize=(20,5))\r\n",
        "plt.show()"
      ],
      "outputs": [
        {
          "output_type": "display_data",
          "data": {
            "image/png": "[encoded data removed]",
            "text/plain": [
              "<Figure size 1440x360 with 1 Axes>"
            ]
          },
          "metadata": {
            "needs_background": "light"
          }
        }
      ],
      "metadata": {
        "colab": {
          "base_uri": "https://localhost:8080/",
          "height": 389
        },
        "id": "G3WdzPrqspj0",
        "outputId": "fc5b1cb5-f393-4969-fd04-2bc4ce5379e1"
      }
    },
    {
      "cell_type": "code",
      "execution_count": 48,
      "source": [
        "df1 = pd.concat([num,char],axis=1,join=\"inner\")"
      ],
      "outputs": [],
      "metadata": {
        "id": "hWpukProugzF"
      }
    },
    {
      "cell_type": "code",
      "execution_count": 49,
      "source": [
        "df1.head()"
      ],
      "outputs": [
        {
          "output_type": "execute_result",
          "data": {
            "text/html": [
              "<div>\n",
              "<style scoped>\n",
              "    .dataframe tbody tr th:only-of-type {\n",
              "        vertical-align: middle;\n",
              "    }\n",
              "\n",
              "    .dataframe tbody tr th {\n",
              "        vertical-align: top;\n",
              "    }\n",
              "\n",
              "    .dataframe thead th {\n",
              "        text-align: right;\n",
              "    }\n",
              "</style>\n",
              "<table border=\"1\" class=\"dataframe\">\n",
              "  <thead>\n",
              "    <tr style=\"text-align: right;\">\n",
              "      <th></th>\n",
              "      <th>Year</th>\n",
              "      <th>Netflix</th>\n",
              "      <th>Hulu</th>\n",
              "      <th>Prime Video</th>\n",
              "      <th>Disney+</th>\n",
              "      <th>Type</th>\n",
              "      <th>Runtime</th>\n",
              "      <th>IMDb</th>\n",
              "      <th>Rotten Tomatoes</th>\n",
              "      <th>Title</th>\n",
              "      <th>Directors</th>\n",
              "    </tr>\n",
              "  </thead>\n",
              "  <tbody>\n",
              "    <tr>\n",
              "      <th>0</th>\n",
              "      <td>2019.0</td>\n",
              "      <td>1.0</td>\n",
              "      <td>0.0</td>\n",
              "      <td>0.0</td>\n",
              "      <td>0.0</td>\n",
              "      <td>0.0</td>\n",
              "      <td>209.0</td>\n",
              "      <td>7.8</td>\n",
              "      <td>98</td>\n",
              "      <td>The Irishman</td>\n",
              "      <td>Martin Scorsese</td>\n",
              "    </tr>\n",
              "    <tr>\n",
              "      <th>1</th>\n",
              "      <td>2016.0</td>\n",
              "      <td>1.0</td>\n",
              "      <td>0.0</td>\n",
              "      <td>0.0</td>\n",
              "      <td>0.0</td>\n",
              "      <td>0.0</td>\n",
              "      <td>161.0</td>\n",
              "      <td>8.4</td>\n",
              "      <td>97</td>\n",
              "      <td>Dangal</td>\n",
              "      <td>Nitesh Tiwari</td>\n",
              "    </tr>\n",
              "    <tr>\n",
              "      <th>2</th>\n",
              "      <td>2020.0</td>\n",
              "      <td>1.0</td>\n",
              "      <td>0.0</td>\n",
              "      <td>0.0</td>\n",
              "      <td>0.0</td>\n",
              "      <td>0.0</td>\n",
              "      <td>83.0</td>\n",
              "      <td>9.0</td>\n",
              "      <td>95</td>\n",
              "      <td>David Attenborough: A Life on Our Planet</td>\n",
              "      <td>Alastair Fothergill,Jonathan Hughes,Keith Scholey</td>\n",
              "    </tr>\n",
              "    <tr>\n",
              "      <th>3</th>\n",
              "      <td>2001.0</td>\n",
              "      <td>1.0</td>\n",
              "      <td>0.0</td>\n",
              "      <td>0.0</td>\n",
              "      <td>0.0</td>\n",
              "      <td>0.0</td>\n",
              "      <td>224.0</td>\n",
              "      <td>8.1</td>\n",
              "      <td>94</td>\n",
              "      <td>Lagaan: Once Upon a Time in India</td>\n",
              "      <td>Ashutosh Gowariker</td>\n",
              "    </tr>\n",
              "    <tr>\n",
              "      <th>4</th>\n",
              "      <td>2018.0</td>\n",
              "      <td>1.0</td>\n",
              "      <td>0.0</td>\n",
              "      <td>0.0</td>\n",
              "      <td>0.0</td>\n",
              "      <td>0.0</td>\n",
              "      <td>52.0</td>\n",
              "      <td>7.7</td>\n",
              "      <td>94</td>\n",
              "      <td>Roma</td>\n",
              "      <td>Jay Chapman</td>\n",
              "    </tr>\n",
              "  </tbody>\n",
              "</table>\n",
              "</div>"
            ],
            "text/plain": [
              "     Year  Netflix  Hulu  Prime Video  Disney+  Type  Runtime  IMDb  \\\n",
              "0  2019.0      1.0   0.0          0.0      0.0   0.0    209.0   7.8   \n",
              "1  2016.0      1.0   0.0          0.0      0.0   0.0    161.0   8.4   \n",
              "2  2020.0      1.0   0.0          0.0      0.0   0.0     83.0   9.0   \n",
              "3  2001.0      1.0   0.0          0.0      0.0   0.0    224.0   8.1   \n",
              "4  2018.0      1.0   0.0          0.0      0.0   0.0     52.0   7.7   \n",
              "\n",
              "   Rotten Tomatoes                                     Title  \\\n",
              "0               98                              The Irishman   \n",
              "1               97                                    Dangal   \n",
              "2               95  David Attenborough: A Life on Our Planet   \n",
              "3               94         Lagaan: Once Upon a Time in India   \n",
              "4               94                                      Roma   \n",
              "\n",
              "                                           Directors  \n",
              "0                                    Martin Scorsese  \n",
              "1                                      Nitesh Tiwari  \n",
              "2  Alastair Fothergill,Jonathan Hughes,Keith Scholey  \n",
              "3                                 Ashutosh Gowariker  \n",
              "4                                        Jay Chapman  "
            ]
          },
          "metadata": {},
          "execution_count": 49
        }
      ],
      "metadata": {
        "colab": {
          "base_uri": "https://localhost:8080/",
          "height": 397
        },
        "id": "Hdh4h6XiurD1",
        "outputId": "c83a19f8-bf28-48d1-d122-923dd9108dd6"
      }
    },
    {
      "cell_type": "code",
      "execution_count": 50,
      "source": [
        "df1.dtypes"
      ],
      "outputs": [
        {
          "output_type": "execute_result",
          "data": {
            "text/plain": [
              "Year               float64\n",
              "Netflix            float64\n",
              "Hulu               float64\n",
              "Prime Video        float64\n",
              "Disney+            float64\n",
              "Type               float64\n",
              "Runtime            float64\n",
              "IMDb               float64\n",
              "Rotten Tomatoes      int64\n",
              "Title               object\n",
              "Directors           object\n",
              "dtype: object"
            ]
          },
          "metadata": {},
          "execution_count": 50
        }
      ],
      "metadata": {
        "colab": {
          "base_uri": "https://localhost:8080/"
        },
        "id": "SA-pnvOr2rnl",
        "outputId": "21f9d9a6-9e3e-422c-c4ad-c01ea83851d9"
      }
    },
    {
      "cell_type": "code",
      "execution_count": 51,
      "source": [
        "df2 = pd.melt(df1, id_vars=[\"Title\",\"Year\",\"IMDb\",\"Type\",\"Runtime\"], var_name=\"platform\")\r\n",
        "df2 = df2[df2.value==1]\r\n",
        "df2.drop(columns=[\"value\"],axis=1,inplace=True)"
      ],
      "outputs": [],
      "metadata": {
        "id": "wlxhwifFutcH"
      }
    },
    {
      "cell_type": "code",
      "execution_count": 52,
      "source": [
        "plot = sns.FacetGrid(df2, col = \"platform\")\r\n",
        "plot.map(plt.hist, \"IMDb\")\r\n",
        "plt.show()"
      ],
      "outputs": [
        {
          "output_type": "display_data",
          "data": {
            "image/png": "[encoded data removed]",
            "text/plain": [
              "<Figure size 864x216 with 4 Axes>"
            ]
          },
          "metadata": {
            "needs_background": "light"
          }
        }
      ],
      "metadata": {
        "colab": {
          "base_uri": "https://localhost:8080/",
          "height": 225
        },
        "id": "KdAvspKb0eYd",
        "outputId": "debd2465-7c28-4363-eef1-75a84e893819"
      }
    },
    {
      "cell_type": "markdown",
      "source": [
        "##Runtime Per Platform Along with Age Group"
      ],
      "metadata": {
        "id": "sxkex35Y8u25"
      }
    },
    {
      "cell_type": "code",
      "execution_count": 53,
      "source": [
        "df[\"IMDb\"] = [str(score)[0:3] for score in df[\"IMDb\"]]\r\n",
        "df[\"Rotten Tomatoes\"] = [str(score)[0:2] for score in df[\"Rotten Tomatoes\"]]\r\n",
        "df.head()"
      ],
      "outputs": [
        {
          "output_type": "execute_result",
          "data": {
            "text/html": [
              "<div>\n",
              "<style scoped>\n",
              "    .dataframe tbody tr th:only-of-type {\n",
              "        vertical-align: middle;\n",
              "    }\n",
              "\n",
              "    .dataframe tbody tr th {\n",
              "        vertical-align: top;\n",
              "    }\n",
              "\n",
              "    .dataframe thead th {\n",
              "        text-align: right;\n",
              "    }\n",
              "</style>\n",
              "<table border=\"1\" class=\"dataframe\">\n",
              "  <thead>\n",
              "    <tr style=\"text-align: right;\">\n",
              "      <th></th>\n",
              "      <th>Title</th>\n",
              "      <th>Year</th>\n",
              "      <th>Age</th>\n",
              "      <th>IMDb</th>\n",
              "      <th>Rotten Tomatoes</th>\n",
              "      <th>Netflix</th>\n",
              "      <th>Hulu</th>\n",
              "      <th>Prime Video</th>\n",
              "      <th>Disney+</th>\n",
              "      <th>Type</th>\n",
              "      <th>Directors</th>\n",
              "      <th>Genres</th>\n",
              "      <th>Country</th>\n",
              "      <th>Language</th>\n",
              "      <th>Runtime</th>\n",
              "    </tr>\n",
              "  </thead>\n",
              "  <tbody>\n",
              "    <tr>\n",
              "      <th>0</th>\n",
              "      <td>The Irishman</td>\n",
              "      <td>2019</td>\n",
              "      <td>18+</td>\n",
              "      <td>7.8</td>\n",
              "      <td>98</td>\n",
              "      <td>1</td>\n",
              "      <td>0</td>\n",
              "      <td>0</td>\n",
              "      <td>0</td>\n",
              "      <td>0</td>\n",
              "      <td>Martin Scorsese</td>\n",
              "      <td>Biography,Crime,Drama</td>\n",
              "      <td>United States</td>\n",
              "      <td>English,Italian,Latin,Spanish,German</td>\n",
              "      <td>209.0</td>\n",
              "    </tr>\n",
              "    <tr>\n",
              "      <th>1</th>\n",
              "      <td>Dangal</td>\n",
              "      <td>2016</td>\n",
              "      <td>7+</td>\n",
              "      <td>8.4</td>\n",
              "      <td>97</td>\n",
              "      <td>1</td>\n",
              "      <td>0</td>\n",
              "      <td>0</td>\n",
              "      <td>0</td>\n",
              "      <td>0</td>\n",
              "      <td>Nitesh Tiwari</td>\n",
              "      <td>Action,Biography,Drama,Sport</td>\n",
              "      <td>India,United States,United Kingdom,Australia,K...</td>\n",
              "      <td>Hindi,English</td>\n",
              "      <td>161.0</td>\n",
              "    </tr>\n",
              "    <tr>\n",
              "      <th>2</th>\n",
              "      <td>David Attenborough: A Life on Our Planet</td>\n",
              "      <td>2020</td>\n",
              "      <td>7+</td>\n",
              "      <td>9.0</td>\n",
              "      <td>95</td>\n",
              "      <td>1</td>\n",
              "      <td>0</td>\n",
              "      <td>0</td>\n",
              "      <td>0</td>\n",
              "      <td>0</td>\n",
              "      <td>Alastair Fothergill,Jonathan Hughes,Keith Scholey</td>\n",
              "      <td>Documentary,Biography</td>\n",
              "      <td>United Kingdom</td>\n",
              "      <td>English</td>\n",
              "      <td>83.0</td>\n",
              "    </tr>\n",
              "    <tr>\n",
              "      <th>3</th>\n",
              "      <td>Lagaan: Once Upon a Time in India</td>\n",
              "      <td>2001</td>\n",
              "      <td>7+</td>\n",
              "      <td>8.1</td>\n",
              "      <td>94</td>\n",
              "      <td>1</td>\n",
              "      <td>0</td>\n",
              "      <td>0</td>\n",
              "      <td>0</td>\n",
              "      <td>0</td>\n",
              "      <td>Ashutosh Gowariker</td>\n",
              "      <td>Drama,Musical,Sport</td>\n",
              "      <td>India,United Kingdom</td>\n",
              "      <td>Hindi,English</td>\n",
              "      <td>224.0</td>\n",
              "    </tr>\n",
              "    <tr>\n",
              "      <th>4</th>\n",
              "      <td>Roma</td>\n",
              "      <td>2018</td>\n",
              "      <td>18+</td>\n",
              "      <td>7.7</td>\n",
              "      <td>94</td>\n",
              "      <td>1</td>\n",
              "      <td>0</td>\n",
              "      <td>0</td>\n",
              "      <td>0</td>\n",
              "      <td>0</td>\n",
              "      <td>NaN</td>\n",
              "      <td>Action,Drama,History,Romance,War</td>\n",
              "      <td>United Kingdom,United States</td>\n",
              "      <td>English</td>\n",
              "      <td>52.0</td>\n",
              "    </tr>\n",
              "  </tbody>\n",
              "</table>\n",
              "</div>"
            ],
            "text/plain": [
              "                                      Title  Year  Age IMDb Rotten Tomatoes  \\\n",
              "0                              The Irishman  2019  18+  7.8              98   \n",
              "1                                    Dangal  2016   7+  8.4              97   \n",
              "2  David Attenborough: A Life on Our Planet  2020   7+  9.0              95   \n",
              "3         Lagaan: Once Upon a Time in India  2001   7+  8.1              94   \n",
              "4                                      Roma  2018  18+  7.7              94   \n",
              "\n",
              "   Netflix  Hulu  Prime Video  Disney+  Type  \\\n",
              "0        1     0            0        0     0   \n",
              "1        1     0            0        0     0   \n",
              "2        1     0            0        0     0   \n",
              "3        1     0            0        0     0   \n",
              "4        1     0            0        0     0   \n",
              "\n",
              "                                           Directors  \\\n",
              "0                                    Martin Scorsese   \n",
              "1                                      Nitesh Tiwari   \n",
              "2  Alastair Fothergill,Jonathan Hughes,Keith Scholey   \n",
              "3                                 Ashutosh Gowariker   \n",
              "4                                                NaN   \n",
              "\n",
              "                             Genres  \\\n",
              "0             Biography,Crime,Drama   \n",
              "1      Action,Biography,Drama,Sport   \n",
              "2             Documentary,Biography   \n",
              "3               Drama,Musical,Sport   \n",
              "4  Action,Drama,History,Romance,War   \n",
              "\n",
              "                                             Country  \\\n",
              "0                                      United States   \n",
              "1  India,United States,United Kingdom,Australia,K...   \n",
              "2                                     United Kingdom   \n",
              "3                               India,United Kingdom   \n",
              "4                       United Kingdom,United States   \n",
              "\n",
              "                               Language  Runtime  \n",
              "0  English,Italian,Latin,Spanish,German    209.0  \n",
              "1                         Hindi,English    161.0  \n",
              "2                               English     83.0  \n",
              "3                         Hindi,English    224.0  \n",
              "4                               English     52.0  "
            ]
          },
          "metadata": {},
          "execution_count": 53
        }
      ],
      "metadata": {
        "colab": {
          "base_uri": "https://localhost:8080/",
          "height": 397
        },
        "id": "P_H9nxmg8zcQ",
        "outputId": "4f1ac760-8bc2-430e-b05a-44a5bbc35960"
      }
    },
    {
      "cell_type": "code",
      "execution_count": 54,
      "source": [
        "df3 = pd.melt(df, id_vars=[\"Title\",\"Year\",\"Age\",\"IMDb\",\"Rotten Tomatoes\",\"Type\",\"Runtime\"], var_name=\"platform\")\r\n",
        "df3 = df3[df3.value==1]\r\n",
        "df3.drop(columns=[\"value\"],axis=1,inplace=True)"
      ],
      "outputs": [],
      "metadata": {
        "id": "sdM5hqDd85Ti"
      }
    },
    {
      "cell_type": "code",
      "execution_count": 55,
      "source": [
        "bar = sns.barplot(x=\"platform\", y=\"Runtime\",hue=\"Age\", estimator=sum, data=df3)"
      ],
      "outputs": [
        {
          "output_type": "display_data",
          "data": {
            "image/png": "[encoded data removed]",
            "text/plain": [
              "<Figure size 432x288 with 1 Axes>"
            ]
          },
          "metadata": {
            "needs_background": "light"
          }
        }
      ],
      "metadata": {
        "colab": {
          "base_uri": "https://localhost:8080/",
          "height": 279
        },
        "id": "oYXevesv9mFR",
        "outputId": "2b000f19-def3-4164-f978-d0191483909e"
      }
    },
    {
      "cell_type": "markdown",
      "source": [
        "##Recommender System"
      ],
      "metadata": {
        "id": "acBlJ0Xu1SZX"
      }
    },
    {
      "cell_type": "code",
      "execution_count": 56,
      "source": [
        "#using only the numerical columns\r\n",
        "\r\n",
        "from sklearn import preprocessing\r\n",
        "\r\n",
        "scaler = preprocessing.MinMaxScaler(feature_range=(0, 1))\r\n",
        "num_min_max = pd.DataFrame((scaler.fit_transform(num)))\r\n",
        "num_min_max.columns=num.columns\r\n",
        "num_min_max.head()"
      ],
      "outputs": [
        {
          "output_type": "execute_result",
          "data": {
            "text/html": [
              "<div>\n",
              "<style scoped>\n",
              "    .dataframe tbody tr th:only-of-type {\n",
              "        vertical-align: middle;\n",
              "    }\n",
              "\n",
              "    .dataframe tbody tr th {\n",
              "        vertical-align: top;\n",
              "    }\n",
              "\n",
              "    .dataframe thead th {\n",
              "        text-align: right;\n",
              "    }\n",
              "</style>\n",
              "<table border=\"1\" class=\"dataframe\">\n",
              "  <thead>\n",
              "    <tr style=\"text-align: right;\">\n",
              "      <th></th>\n",
              "      <th>Year</th>\n",
              "      <th>Netflix</th>\n",
              "      <th>Hulu</th>\n",
              "      <th>Prime Video</th>\n",
              "      <th>Disney+</th>\n",
              "      <th>Type</th>\n",
              "      <th>Runtime</th>\n",
              "      <th>IMDb</th>\n",
              "      <th>Rotten Tomatoes</th>\n",
              "    </tr>\n",
              "  </thead>\n",
              "  <tbody>\n",
              "    <tr>\n",
              "      <th>0</th>\n",
              "      <td>0.981308</td>\n",
              "      <td>1.0</td>\n",
              "      <td>0.0</td>\n",
              "      <td>0.0</td>\n",
              "      <td>0.0</td>\n",
              "      <td>0.0</td>\n",
              "      <td>0.368142</td>\n",
              "      <td>0.770115</td>\n",
              "      <td>1.000000</td>\n",
              "    </tr>\n",
              "    <tr>\n",
              "      <th>1</th>\n",
              "      <td>0.953271</td>\n",
              "      <td>1.0</td>\n",
              "      <td>0.0</td>\n",
              "      <td>0.0</td>\n",
              "      <td>0.0</td>\n",
              "      <td>0.0</td>\n",
              "      <td>0.283186</td>\n",
              "      <td>0.839080</td>\n",
              "      <td>0.988636</td>\n",
              "    </tr>\n",
              "    <tr>\n",
              "      <th>2</th>\n",
              "      <td>0.990654</td>\n",
              "      <td>1.0</td>\n",
              "      <td>0.0</td>\n",
              "      <td>0.0</td>\n",
              "      <td>0.0</td>\n",
              "      <td>0.0</td>\n",
              "      <td>0.145133</td>\n",
              "      <td>0.908046</td>\n",
              "      <td>0.965909</td>\n",
              "    </tr>\n",
              "    <tr>\n",
              "      <th>3</th>\n",
              "      <td>0.813084</td>\n",
              "      <td>1.0</td>\n",
              "      <td>0.0</td>\n",
              "      <td>0.0</td>\n",
              "      <td>0.0</td>\n",
              "      <td>0.0</td>\n",
              "      <td>0.394690</td>\n",
              "      <td>0.804598</td>\n",
              "      <td>0.954545</td>\n",
              "    </tr>\n",
              "    <tr>\n",
              "      <th>4</th>\n",
              "      <td>0.971963</td>\n",
              "      <td>1.0</td>\n",
              "      <td>0.0</td>\n",
              "      <td>0.0</td>\n",
              "      <td>0.0</td>\n",
              "      <td>0.0</td>\n",
              "      <td>0.090265</td>\n",
              "      <td>0.758621</td>\n",
              "      <td>0.954545</td>\n",
              "    </tr>\n",
              "  </tbody>\n",
              "</table>\n",
              "</div>"
            ],
            "text/plain": [
              "       Year  Netflix  Hulu  Prime Video  Disney+  Type   Runtime      IMDb  \\\n",
              "0  0.981308      1.0   0.0          0.0      0.0   0.0  0.368142  0.770115   \n",
              "1  0.953271      1.0   0.0          0.0      0.0   0.0  0.283186  0.839080   \n",
              "2  0.990654      1.0   0.0          0.0      0.0   0.0  0.145133  0.908046   \n",
              "3  0.813084      1.0   0.0          0.0      0.0   0.0  0.394690  0.804598   \n",
              "4  0.971963      1.0   0.0          0.0      0.0   0.0  0.090265  0.758621   \n",
              "\n",
              "   Rotten Tomatoes  \n",
              "0         1.000000  \n",
              "1         0.988636  \n",
              "2         0.965909  \n",
              "3         0.954545  \n",
              "4         0.954545  "
            ]
          },
          "metadata": {},
          "execution_count": 56
        }
      ],
      "metadata": {
        "id": "fqwiCONN91rT",
        "colab": {
          "base_uri": "https://localhost:8080/",
          "height": 205
        },
        "outputId": "e0d8652e-122e-4d4e-c130-21420a7ec88c"
      }
    },
    {
      "cell_type": "code",
      "execution_count": 57,
      "source": [
        "from sklearn.metrics.pairwise import cosine_similarity\r\n",
        "cos_sim = cosine_similarity(num_min_max, num_min_max)\r\n",
        "indices = pd.Series(df1.index, index=df1['Title']).drop_duplicates()"
      ],
      "outputs": [],
      "metadata": {
        "id": "-XYUDOA115Zf"
      }
    },
    {
      "cell_type": "code",
      "execution_count": 58,
      "source": [
        "indices.head()"
      ],
      "outputs": [
        {
          "output_type": "execute_result",
          "data": {
            "text/plain": [
              "Title\n",
              "The Irishman                                0\n",
              "Dangal                                      1\n",
              "David Attenborough: A Life on Our Planet    2\n",
              "Lagaan: Once Upon a Time in India           3\n",
              "Roma                                        4\n",
              "dtype: int64"
            ]
          },
          "metadata": {},
          "execution_count": 58
        }
      ],
      "metadata": {
        "colab": {
          "base_uri": "https://localhost:8080/"
        },
        "id": "IkFtRbWT-KxG",
        "outputId": "0a512aa4-f5f6-434a-96f8-faaa7e5668c0"
      }
    },
    {
      "cell_type": "code",
      "execution_count": 59,
      "source": [
        "def give_rec(title, sig = cos_sim):\r\n",
        "\r\n",
        "    idx = indices[title]\r\n",
        "\r\n",
        "    sig_scores = list(enumerate(sig[idx]))\r\n",
        "\r\n",
        "    sig_scores = sorted(sig_scores, key=lambda x: x[1], reverse=True)\r\n",
        "    # Scores of the 10 most similar movies\r\n",
        "    sig_scores = sig_scores[1:11]\r\n",
        "    # Movie indices\r\n",
        "    movie_indices = [i[0] for i in sig_scores]\r\n",
        "    # Top 10 most similar movies\r\n",
        "    return df1['Title'].iloc[movie_indices]"
      ],
      "outputs": [],
      "metadata": {
        "id": "JupMypes-Rvb"
      }
    },
    {
      "cell_type": "code",
      "execution_count": 60,
      "source": [
        "found = df1[df1['Title'].str.contains('The Matrix')]\r\n",
        "print(found.count())"
      ],
      "outputs": [
        {
          "output_type": "stream",
          "name": "stdout",
          "text": [
            "Year               0\n",
            "Netflix            0\n",
            "Hulu               0\n",
            "Prime Video        0\n",
            "Disney+            0\n",
            "Type               0\n",
            "Runtime            0\n",
            "IMDb               0\n",
            "Rotten Tomatoes    0\n",
            "Title              0\n",
            "Directors          0\n",
            "dtype: int64\n"
          ]
        }
      ],
      "metadata": {
        "colab": {
          "base_uri": "https://localhost:8080/"
        },
        "id": "3TMWNPPFDjs5",
        "outputId": "fe478273-e847-4a13-8d16-98b9429ca2ea"
      }
    },
    {
      "cell_type": "code",
      "execution_count": 61,
      "source": [
        "# Execute get_rec() function for getting recommendation\r\n",
        "give_rec('Boogie Nights',sig = cos_sim)"
      ],
      "outputs": [
        {
          "output_type": "execute_result",
          "data": {
            "text/plain": [
              "112                   Mystic River\n",
              "55                     The Pianist\n",
              "198    What's Eating Gilbert Grape\n",
              "66                   Kal Ho Naa Ho\n",
              "79             Million Dollar Baby\n",
              "78             There Will Be Blood\n",
              "70                   Casino Royale\n",
              "124                  Love Actually\n",
              "240                       I Am Sam\n",
              "147             Dances with Wolves\n",
              "Name: Title, dtype: object"
            ]
          },
          "metadata": {},
          "execution_count": 61
        }
      ],
      "metadata": {
        "colab": {
          "base_uri": "https://localhost:8080/"
        },
        "id": "8kuDia2Y_STP",
        "outputId": "5398fa5c-1811-499b-d9a6-7979ae6abd87"
      }
    },
    {
      "cell_type": "code",
      "execution_count": 62,
      "source": [
        "from sklearn.feature_extraction.text import TfidfVectorizer\r\n",
        "from nltk.tokenize import RegexpTokenizer\r\n",
        "from scipy.sparse import hstack\r\n",
        "\r\n",
        "def preprocess(df):\r\n",
        "    #combining all text columns\r\n",
        "    # Selecting all object data type and storing them in list\r\n",
        "    obj = list(df.select_dtypes(include=['object']).columns)\r\n",
        "    # Removing ID and Title column\r\n",
        "    obj.remove(\"Title\")\r\n",
        "    # Joining all text/object columns using commas into a single column\r\n",
        "    df['all_text']= df[obj].apply(lambda x: ','.join(x.dropna().astype(str)),axis=1)\r\n",
        "\r\n",
        "    # Creating a tokenizer to remove unwanted elements from our data like symbols and numbers\r\n",
        "    token = RegexpTokenizer(r'[a-zA-Z]+')\r\n",
        "\r\n",
        "    # Converting TfidfVector from the text\r\n",
        "    tfv = TfidfVectorizer(lowercase=True,stop_words='english',ngram_range = (1,1),tokenizer = token.tokenize)\r\n",
        "    text_counts = tfv.fit_transform(df['all_text'])\r\n",
        "\r\n",
        "    \r\n",
        "\r\n",
        "    # Aelecting numerical variables\r\n",
        "    num_1 = df.select_dtypes(include=['float64',\"int64\"])\r\n",
        "\r\n",
        "    # Scaling Numerical variables\r\n",
        "    scaler = preprocessing.MinMaxScaler(feature_range=(0, 1))\r\n",
        "\r\n",
        "    # Applying scaler on our data and converting i into a data frame\r\n",
        "    num_min_max_1 = pd.DataFrame((scaler.fit_transform(num_1)))\r\n",
        "    num_min_max_1.columns = num_1.columns\r\n",
        "\r\n",
        "    # Adding our adding numerical variables in the TF-IDF vector\r\n",
        "    IMDb = num_min_max_1.IMDb.values[:, None]\r\n",
        "    X_train_dtm = hstack((text_counts, IMDb))\r\n",
        "    Netflix = num_min_max_1.Netflix.values[:, None]\r\n",
        "    X_train_dtm = hstack((X_train_dtm, Netflix))\r\n",
        "    Hulu = num_min_max_1.Hulu.values[:, None]\r\n",
        "    X_train_dtm = hstack((X_train_dtm, Hulu))\r\n",
        "    Prime = num_min_max_1[\"Prime Video\"].values[:, None]\r\n",
        "    X_train_dtm = hstack((X_train_dtm, Prime))\r\n",
        "    Disney = num_min_max_1[\"Disney+\"].values[:, None]\r\n",
        "    X_train_dtm = hstack((X_train_dtm, Disney))\r\n",
        "    Runtime = num_min_max_1.Runtime.values[:, None]\r\n",
        "    X_train_dtm = hstack((X_train_dtm, Runtime))\r\n",
        "    return X_train_dtm"
      ],
      "outputs": [],
      "metadata": {
        "id": "YvCJtwJa_r9X"
      }
    },
    {
      "cell_type": "code",
      "execution_count": 63,
      "source": [
        "matri = preprocess(df1)\r\n",
        "matri.shape"
      ],
      "outputs": [
        {
          "output_type": "execute_result",
          "data": {
            "text/plain": [
              "(9515, 8156)"
            ]
          },
          "metadata": {},
          "execution_count": 63
        }
      ],
      "metadata": {
        "colab": {
          "base_uri": "https://localhost:8080/"
        },
        "id": "9aH-mmxtHxCj",
        "outputId": "7f9ab197-4f91-4a33-f0e9-56c86d19ad96"
      }
    },
    {
      "cell_type": "code",
      "execution_count": 64,
      "source": [
        "cos_sim1 = cosine_similarity(matri, matri)\r\n",
        "\r\n",
        "# Reverse mapping of indices and movie titles\r\n",
        "indices = pd.Series(df1.index, index=df1['Title']).drop_duplicates()"
      ],
      "outputs": [],
      "metadata": {
        "id": "uhUAktF2H4hD"
      }
    },
    {
      "cell_type": "code",
      "execution_count": 65,
      "source": [
        "give_rec(\"Swades\",sig = cos_sim1)"
      ],
      "outputs": [
        {
          "output_type": "execute_result",
          "data": {
            "text/plain": [
              "3       Lagaan: Once Upon a Time in India\n",
              "754                          Jodhaa Akbar\n",
              "1800                         Mohenjo Daro\n",
              "1998                              Panipat\n",
              "3216                 What's Your Raashee?\n",
              "1428                Nas: Time Is Illmatic\n",
              "1059                       No Longer kids\n",
              "44           No Direction Home: Bob Dylan\n",
              "1881                       Bye Bye London\n",
              "642                     C/o Kancharapalem\n",
              "Name: Title, dtype: object"
            ]
          },
          "metadata": {},
          "execution_count": 65
        }
      ],
      "metadata": {
        "colab": {
          "base_uri": "https://localhost:8080/"
        },
        "id": "q6ngbkUoKOqw",
        "outputId": "f8345a86-978c-449e-d4ac-afd8ba88d989"
      }
    },
    {
      "cell_type": "code",
      "execution_count": 66,
      "source": [
        "give_rec(\"The Irishman\",sig = cos_sim1)"
      ],
      "outputs": [
        {
          "output_type": "execute_result",
          "data": {
            "text/plain": [
              "626     Rolling Thunder Revue: A Bob Dylan Story by Ma...\n",
              "24                                           The Departed\n",
              "36                                         Shutter Island\n",
              "173                                                  Hugo\n",
              "44                           No Direction Home: Bob Dylan\n",
              "3070                                          Taxi Driver\n",
              "1428                                Nas: Time Is Illmatic\n",
              "70                                          Casino Royale\n",
              "255                                          Midnight Run\n",
              "1057                                              Nayattu\n",
              "Name: Title, dtype: object"
            ]
          },
          "metadata": {},
          "execution_count": 66
        }
      ],
      "metadata": {
        "colab": {
          "base_uri": "https://localhost:8080/"
        },
        "id": "4jpN8fbvK4ZN",
        "outputId": "08a6913c-dc0e-411a-b1bf-0b25d63ac444"
      }
    }
  ]
}
